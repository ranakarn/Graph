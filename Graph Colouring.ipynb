{
 "cells": [
  {
   "cell_type": "code",
   "execution_count": 5,
   "metadata": {},
   "outputs": [
    {
     "name": "stdout",
     "output_type": "stream",
     "text": [
      "Color assigned to vertex 0 is BLUE\n",
      "Color assigned to vertex 1 is GREEN\n",
      "Color assigned to vertex 2 is BLUE\n",
      "Color assigned to vertex 3 is RED\n",
      "Color assigned to vertex 4 is RED\n",
      "Color assigned to vertex 5 is GREEN\n",
      "Color assigned to vertex 6 is BLUE\n",
      "Color assigned to vertex 7 is BLUE\n"
     ]
    }
   ],
   "source": [
    "class Graph:\n",
    " \n",
    "    def __init__(self, edges, N):\n",
    " \n",
    "        self.adj = [[] for _ in range(N)]\n",
    " \n",
    "        for (src, dest) in edges:\n",
    "            self.adj[src].append(dest)\n",
    "            self.adj[dest].append(src)\n",
    " \n",
    " \n",
    "def colorGraph(graph):\n",
    " \n",
    "    result = {}\n",
    " \n",
    "    for u in range(N):\n",
    " \n",
    "        assigned = set([result.get(i) for i in graph.adj[u] if i in result])\n",
    " \n",
    "        color = 1\n",
    "        for c in assigned:\n",
    "            if color != c:\n",
    "                break\n",
    "            color = color + 1\n",
    " \n",
    "        result[u] = color\n",
    " \n",
    "    for v in range(N):\n",
    "        print(\"Color assigned to vertex\", v, \"is\", colors[result[v]])\n",
    " \n",
    " \n",
    "if __name__ == '__main__':\n",
    " \n",
    "    colors = [\"\", \"BLUE\", \"GREEN\", \"RED\", \"YELLOW\", \"ORANGE\", \"PINK\",\n",
    "            \"BLACK\", \"BROWN\", \"WHITE\", \"PURPLE\", \"VOILET\"]\n",
    " \n",
    "    edges = [(0, 1), (0, 4), (0, 5), (4, 5), (1, 4), (1, 3), (2, 3), (2, 4)]\n",
    " \n",
    "    N = 8\n",
    " \n",
    "    graph = Graph(edges, N)\n",
    " \n",
    "    colorGraph(graph)\n",
    " "
   ]
  },
  {
   "cell_type": "code",
   "execution_count": 3,
   "metadata": {},
   "outputs": [
    {
     "name": "stdout",
     "output_type": "stream",
     "text": [
      "9567 + 1085 = 10652 (solutions: {'o': 0, 'm': 1, 's': 9, 'r': 8, 'd': 7, 'y': 2, 'n': 6, 'e': 5})\n",
      "2817 + 368 = 3185 (solutions: {'o': 3, 'm': 0, 's': 2, 'r': 6, 'd': 7, 'y': 5, 'n': 1, 'e': 8})\n",
      "2819 + 368 = 3187 (solutions: {'o': 3, 'm': 0, 's': 2, 'r': 6, 'd': 9, 'y': 7, 'n': 1, 'e': 8})\n",
      "3719 + 457 = 4176 (solutions: {'o': 4, 'm': 0, 's': 3, 'r': 5, 'd': 9, 'y': 6, 'n': 1, 'e': 7})\n",
      "3829 + 458 = 4287 (solutions: {'o': 4, 'm': 0, 's': 3, 'r': 5, 'd': 9, 'y': 7, 'n': 2, 'e': 8})\n",
      "3821 + 468 = 4289 (solutions: {'o': 4, 'm': 0, 's': 3, 'r': 6, 'd': 1, 'y': 9, 'n': 2, 'e': 8})\n",
      "3712 + 467 = 4179 (solutions: {'o': 4, 'm': 0, 's': 3, 'r': 6, 'd': 2, 'y': 9, 'n': 1, 'e': 7})\n",
      "5849 + 638 = 6487 (solutions: {'o': 6, 'm': 0, 's': 5, 'r': 3, 'd': 9, 'y': 7, 'n': 4, 'e': 8})\n",
      "5731 + 647 = 6378 (solutions: {'o': 6, 'm': 0, 's': 5, 'r': 4, 'd': 1, 'y': 8, 'n': 3, 'e': 7})\n",
      "5732 + 647 = 6379 (solutions: {'o': 6, 'm': 0, 's': 5, 'r': 4, 'd': 2, 'y': 9, 'n': 3, 'e': 7})\n",
      "6853 + 728 = 7581 (solutions: {'o': 7, 'm': 0, 's': 6, 'r': 2, 'd': 3, 'y': 1, 'n': 5, 'e': 8})\n",
      "6419 + 724 = 7143 (solutions: {'o': 7, 'm': 0, 's': 6, 'r': 2, 'd': 9, 'y': 3, 'n': 1, 'e': 4})\n",
      "6851 + 738 = 7589 (solutions: {'o': 7, 'm': 0, 's': 6, 'r': 3, 'd': 1, 'y': 9, 'n': 5, 'e': 8})\n",
      "6524 + 735 = 7259 (solutions: {'o': 7, 'm': 0, 's': 6, 'r': 3, 'd': 4, 'y': 9, 'n': 2, 'e': 5})\n",
      "6415 + 734 = 7149 (solutions: {'o': 7, 'm': 0, 's': 6, 'r': 3, 'd': 5, 'y': 9, 'n': 1, 'e': 4})\n",
      "7429 + 814 = 8243 (solutions: {'o': 8, 'm': 0, 's': 7, 'r': 1, 'd': 9, 'y': 3, 'n': 2, 'e': 4})\n",
      "7539 + 815 = 8354 (solutions: {'o': 8, 'm': 0, 's': 7, 'r': 1, 'd': 9, 'y': 4, 'n': 3, 'e': 5})\n",
      "7649 + 816 = 8465 (solutions: {'o': 8, 'm': 0, 's': 7, 'r': 1, 'd': 9, 'y': 5, 'n': 4, 'e': 6})\n",
      "7531 + 825 = 8356 (solutions: {'o': 8, 'm': 0, 's': 7, 'r': 2, 'd': 1, 'y': 6, 'n': 3, 'e': 5})\n",
      "7643 + 826 = 8469 (solutions: {'o': 8, 'm': 0, 's': 7, 'r': 2, 'd': 3, 'y': 9, 'n': 4, 'e': 6})\n",
      "7534 + 825 = 8359 (solutions: {'o': 8, 'm': 0, 's': 7, 'r': 2, 'd': 4, 'y': 9, 'n': 3, 'e': 5})\n",
      "7316 + 823 = 8139 (solutions: {'o': 8, 'm': 0, 's': 7, 'r': 2, 'd': 6, 'y': 9, 'n': 1, 'e': 3})\n",
      "8432 + 914 = 9346 (solutions: {'o': 9, 'm': 0, 's': 8, 'r': 1, 'd': 2, 'y': 6, 'n': 3, 'e': 4})\n",
      "8542 + 915 = 9457 (solutions: {'o': 9, 'm': 0, 's': 8, 'r': 1, 'd': 2, 'y': 7, 'n': 4, 'e': 5})\n",
      "8324 + 913 = 9237 (solutions: {'o': 9, 'm': 0, 's': 8, 'r': 1, 'd': 4, 'y': 7, 'n': 2, 'e': 3})\n"
     ]
    }
   ],
   "source": [
    "import itertools\n",
    "\n",
    "\n",
    "def value(word, sub):\n",
    "    \n",
    "    s = 0\n",
    "    factor = 1\n",
    "    for letter in reversed(word):\n",
    "        s += factor * sub[letter]\n",
    "        factor *= 10\n",
    "    return s\n",
    "\n",
    "\n",
    "def func(equation):\n",
    "    \n",
    "    # split equation in left and right\n",
    "    left, right = equation.lower().replace(' ','').split('=')\n",
    "    \n",
    "    \n",
    "    # split words in left part\n",
    "    left = left.split('+')\n",
    "    \n",
    "    # create list of used letters\n",
    "    letters = set(right)\n",
    "    \n",
    "    \n",
    "    for word in left:\n",
    "        for letter in word:\n",
    "            letters.add(letter)\n",
    "    letters = list(letters)\n",
    "    digits = range(10)\n",
    "    \n",
    "    for perm in itertools.permutations(digits, len(letters)):\n",
    "        sol = dict(zip(letters, perm))\n",
    "     \n",
    "        if sum(value(word, sol) for word in left) == value(right, sol):\n",
    "            print(' + '.join(str(value(word, sol)) for word in left) + \" = {} (solutions: {})\".format(value(right,sol), sol))\n",
    "            \n",
    "            \n",
    "func('SEND + MORE = MONEY')"
   ]
  },
  {
   "cell_type": "code",
   "execution_count": 4,
   "metadata": {},
   "outputs": [
    {
     "name": "stdout",
     "output_type": "stream",
     "text": [
      "From 1 to 3\n",
      "From 1 to 2\n",
      "From 3 to 2\n",
      "From 1 to 3\n",
      "From 2 to 1\n",
      "From 2 to 3\n",
      "From 1 to 3\n"
     ]
    }
   ],
   "source": [
    "def TOH(n, A, B, C):\n",
    "    if n > 0:\n",
    "        \n",
    "        TOH(n-1, A, C, B)\n",
    "        print(\"From\", A, \"to\", C)\n",
    "        \n",
    "        TOH(n-1, B, A, C)\n",
    "        \n",
    "TOH(3, 1, 2, 3)"
   ]
  },
  {
   "cell_type": "code",
   "execution_count": null,
   "metadata": {},
   "outputs": [],
   "source": []
  }
 ],
 "metadata": {
  "kernelspec": {
   "display_name": "Python 3",
   "language": "python",
   "name": "python3"
  },
  "language_info": {
   "codemirror_mode": {
    "name": "ipython",
    "version": 3
   },
   "file_extension": ".py",
   "mimetype": "text/x-python",
   "name": "python",
   "nbconvert_exporter": "python",
   "pygments_lexer": "ipython3",
   "version": "3.7.3"
  }
 },
 "nbformat": 4,
 "nbformat_minor": 2
}
